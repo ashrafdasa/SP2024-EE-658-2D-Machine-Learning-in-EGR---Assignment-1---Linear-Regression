{
 "cells": [
  {
   "cell_type": "code",
   "execution_count": 1,
   "metadata": {},
   "outputs": [],
   "source": [
    "# Ashraf Dasa (AYDASA@UAB.EDU)"
   ]
  },
  {
   "cell_type": "code",
   "execution_count": 6,
   "metadata": {},
   "outputs": [
    {
     "data": {
      "text/plain": [
       "<module 'streamlit' from 'C:\\\\Users\\\\xu7719\\\\AppData\\\\Roaming\\\\Python\\\\Python311\\\\site-packages\\\\streamlit\\\\__init__.py'>"
      ]
     },
     "execution_count": 6,
     "metadata": {},
     "output_type": "execute_result"
    }
   ],
   "source": []
  },
  {
   "cell_type": "code",
   "execution_count": 125,
   "metadata": {},
   "outputs": [],
   "source": [
    "import os\n",
    "import time\n",
    "import numpy as np\n",
    "import pandas as pd\n",
    "from sklearn.metrics import multilabel_confusion_matrix\n",
    "from sklearn.preprocessing import OneHotEncoder\n",
    "from sklearn.preprocessing import MinMaxScaler,StandardScaler\n",
    "from sklearn.model_selection import train_test_split\n",
    "from sklearn.metrics import mean_squared_error, mean_absolute_error\n",
    "from sklearn.linear_model import LinearRegression\n",
    "from sklearn import metrics\n",
    "import matplotlib.pyplot as plt\n",
    "from sklearn.linear_model import LogisticRegression\n",
    "import seaborn as sns\n",
    "import matplotlib.pyplot as plt\n",
    "from sklearn.datasets import make_classification,fetch_openml\n",
    "from sklearn.metrics import confusion_matrix, ConfusionMatrixDisplay,classification_report \n",
    "from sklearn.neural_network import MLPClassifier\n",
    "from sklearn.metrics import accuracy_score\n",
    "from sklearn.model_selection import train_test_split  \n",
    "from sklearn.svm import SVC\n",
    "from sklearn.decomposition import PCA\n",
    "from itertools import product\n",
    "import warnings\n",
    "from sklearn import datasets\n",
    "from sklearn import metrics\n",
    "import json\n",
    "import pickle\n",
    "from sklearn import tree\n",
    "from sklearn.datasets import load_digits\n",
    "from sklearn.naive_bayes import GaussianNB\n",
    "warnings.filterwarnings(\"ignore\")"
   ]
  },
  {
   "cell_type": "code",
   "execution_count": 159,
   "metadata": {},
   "outputs": [],
   "source": [
    "df_resultsSummary = pd.DataFrame([])\n",
    "def calculateAcc(y_test,y_predict,dataSetName,alg,info,numberOfParameters,executionTime): \n",
    "    #conf_matrix = confusion_matrix(y_test, y_predict )  \n",
    "    acc  = accuracy_score(y_test, y_predict) \n",
    "    result = {\"dataSetName\": dataSetName,\n",
    "              \"alg\":alg,\n",
    "              \"Training Time (s)\":round(executionTime,2),\n",
    "              \"modelAccurecy (%)\": round(100 * acc), \n",
    "              \"info\":info} \n",
    "    with open(\"./models/\"+dataSetName +\"_\"+ alg+\".json\", \"w\") as outfile: \n",
    "        json.dump(result, outfile)\n",
    "    \n",
    "    print(dataSetName, alg, acc)\n",
    "     \n",
    "    return; \n"
   ]
  },
  {
   "cell_type": "code",
   "execution_count": 160,
   "metadata": {},
   "outputs": [],
   "source": [
    "def modelingPipeline(dataSetName,X_train,y_train,X_test,y_test):\n",
    "    # LogisticRegression\n",
    "    alg = \"Logistic Regression\" \n",
    "    ovr = LogisticRegression(random_state=15, multi_class='ovr', solver='lbfgs')\n",
    "    startTime = time.time()\n",
    "    ovr.fit(X_train, y_train)\n",
    "    executionTime = time.time()-startTime\n",
    "    y_predict =ovr.predict(X_test) \n",
    "    info = {\"solver\":\"lbfgs\"}\n",
    "    calculateAcc(y_test,y_predict,dataSetName, alg,info,0, executionTime)\n",
    "    pickle.dump(ovr, open(\"models/\" + dataSetName + \"_\" + alg + \".h5\", 'wb'))\n",
    "    \n",
    "    # Neural Network Classifier \n",
    "    alg = \"Neural Network Classifier\" \n",
    "    mlp_clf = MLPClassifier(hidden_layer_sizes=(16,12,8), max_iter = 1000, activation = 'logistic', solver = 'adam')\n",
    "    startTime = time.time()\n",
    "    mlp_clf.fit(X_train, y_train)\n",
    "    executionTime = time.time()-startTime \n",
    "    y_predict =mlp_clf.predict(X_test)   \n",
    "    info = { \"activation\" : 'logistic', \"solver\" : 'adam'}\n",
    "    calculateAcc(y_test,y_predict,dataSetName, alg,info,0, executionTime)\n",
    "    pickle.dump(ovr, open(\"models/\" + dataSetName + \"_\" + alg + \".h5\", 'wb'))\n",
    "    \n",
    "\n",
    "    # Gaussian Naive Bayes\n",
    "    alg = \"Naive Bayes\"\n",
    "    gnb = GaussianNB()\n",
    "    startTime = time.time()\n",
    "    gnb.fit(X_train, y_train)\n",
    "    executionTime = time.time()-startTime \n",
    "    y_predict =gnb.predict(X_test) \n",
    "    calculateAcc(y_test,y_predict,dataSetName, alg,info,0, executionTime)\n",
    "    pickle.dump(ovr, open(\"models/\" + dataSetName + \"_\" + alg + \".h5\", 'wb'))\n",
    "\n",
    "    # Decision Tree\n",
    "    alg = \"Decision Tree\"\n",
    "    clf = tree.DecisionTreeClassifier()\n",
    "    startTime = time.time()\n",
    "    clf.fit(X_train, y_train)\n",
    "    executionTime = time.time()-startTime \n",
    "    y_predict =clf.predict(X_test) \n",
    "    calculateAcc(y_test,y_predict,dataSetName, alg,info,0, executionTime)\n",
    "    pickle.dump(ovr, open(\"models/\" + dataSetName + \"_\" + alg + \".h5\", 'wb'))\n"
   ]
  },
  {
   "cell_type": "code",
   "execution_count": 161,
   "metadata": {},
   "outputs": [
    {
     "name": "stdout",
     "output_type": "stream",
     "text": [
      "IRIS Logistic Regression 0.9666666666666667\n",
      "IRIS Neural Network Classifier 0.9666666666666667\n",
      "IRIS Naive Bayes 1.0\n",
      "IRIS Decision Tree 1.0\n"
     ]
    }
   ],
   "source": [
    "dataSetName = \"IRIS\"\n",
    "iris = datasets.load_iris()  \n",
    "X = iris.data\n",
    "scaler = StandardScaler() \n",
    "scaler.fit(X)  \n",
    "pickle.dump(scaler, open( \"models/scaling_\" + dataSetName + \".pkl\" , 'wb'))\n",
    "X = scaler.transform(X)\n",
    "y = iris.target \n",
    "X_train, X_test, y_train, y_test = train_test_split(X, y, test_size=0.2, random_state=42) \n",
    "modelingPipeline( dataSetName, X_train,y_train,X_test,y_test)"
   ]
  },
  {
   "cell_type": "code",
   "execution_count": 162,
   "metadata": {},
   "outputs": [
    {
     "name": "stdout",
     "output_type": "stream",
     "text": [
      "Digits Logistic Regression 0.9666666666666667\n",
      "Digits Neural Network Classifier 0.9111111111111111\n",
      "Digits Naive Bayes 0.7666666666666667\n",
      "Digits Decision Tree 0.8638888888888889\n"
     ]
    }
   ],
   "source": [
    "dataSetName = \"Digits\"\n",
    "digits = load_digits()\n",
    "X = digits.data\n",
    "scaler = StandardScaler() \n",
    "scaler.fit(X)   \n",
    "pickle.dump(scaler, open( \"models/scaling_\" + dataSetName + \".pkl\" , 'wb'))\n",
    "X = scaler.transform(X)\n",
    "y = digits.target \n",
    "X_train, X_test, y_train, y_test = train_test_split(X, y, test_size=0.2, random_state=42) \n",
    "modelingPipeline( dataSetName, X_train,y_train,X_test,y_test)"
   ]
  },
  {
   "cell_type": "code",
   "execution_count": 105,
   "metadata": {},
   "outputs": [
    {
     "data": {
      "text/plain": [
       "<matplotlib.image.AxesImage at 0x21826404a90>"
      ]
     },
     "execution_count": 105,
     "metadata": {},
     "output_type": "execute_result"
    },
    {
     "data": {
      "image/png": "[encoded data removed]",
      "text/plain": [
       "<Figure size 480x480 with 1 Axes>"
      ]
     },
     "metadata": {},
     "output_type": "display_data"
    }
   ],
   "source": [
    "plt.matshow(digits.images[0])"
   ]
  },
  {
   "cell_type": "code",
   "execution_count": 113,
   "metadata": {},
   "outputs": [
    {
     "data": {
      "text/plain": [
       "array([ 0.,  0.,  5., 13.,  9.,  1.,  0.,  0.,  0.,  0., 13., 15., 10.,\n",
       "       15.,  5.,  0.,  0.,  3., 15.,  2.,  0., 11.,  8.,  0.,  0.,  4.,\n",
       "       12.,  0.,  0.,  8.,  8.,  0.,  0.,  5.,  8.,  0.,  0.,  9.,  8.,\n",
       "        0.,  0.,  4., 11.,  0.,  1., 12.,  7.,  0.,  0.,  2., 14.,  5.,\n",
       "       10., 12.,  0.,  0.,  0.,  0.,  6., 13., 10.,  0.,  0.,  0.])"
      ]
     },
     "execution_count": 113,
     "metadata": {},
     "output_type": "execute_result"
    }
   ],
   "source": [
    "digits.images[0].flatten()"
   ]
  },
  {
   "cell_type": "code",
   "execution_count": 137,
   "metadata": {},
   "outputs": [
    {
     "data": {
      "text/plain": [
       "array(['setosa', 'versicolor', 'virginica'], dtype='<U10')"
      ]
     },
     "execution_count": 137,
     "metadata": {},
     "output_type": "execute_result"
    }
   ],
   "source": [
    "iris.target_names "
   ]
  },
  {
   "cell_type": "code",
   "execution_count": 138,
   "metadata": {},
   "outputs": [
    {
     "data": {
      "text/plain": [
       "numpy.ndarray"
      ]
     },
     "execution_count": 138,
     "metadata": {},
     "output_type": "execute_result"
    }
   ],
   "source": [
    "type(X_test[0] )"
   ]
  },
  {
   "cell_type": "code",
   "execution_count": 143,
   "metadata": {},
   "outputs": [
    {
     "data": {
      "text/plain": [
       "array([0, 0, 0, 0, 0, 0, 0, 0, 0, 0, 0, 0, 0, 0, 0, 0, 0, 0, 0, 0, 0, 0,\n",
       "       0, 0, 0, 0, 0, 0, 0, 0, 0, 0, 0, 0, 0, 0, 0, 0, 0, 0, 0, 0, 0, 0,\n",
       "       0, 0, 0, 0, 0, 0, 1, 1, 1, 1, 1, 1, 1, 1, 1, 1, 1, 1, 1, 1, 1, 1,\n",
       "       1, 1, 1, 1, 1, 1, 1, 1, 1, 1, 1, 1, 1, 1, 1, 1, 1, 1, 1, 1, 1, 1,\n",
       "       1, 1, 1, 1, 1, 1, 1, 1, 1, 1, 1, 1, 2, 2, 2, 2, 2, 2, 2, 2, 2, 2,\n",
       "       2, 2, 2, 2, 2, 2, 2, 2, 2, 2, 2, 2, 2, 2, 2, 2, 2, 2, 2, 2, 2, 2,\n",
       "       2, 2, 2, 2, 2, 2, 2, 2, 2, 2, 2, 2, 2, 2, 2, 2, 2, 2])"
      ]
     },
     "execution_count": 143,
     "metadata": {},
     "output_type": "execute_result"
    }
   ],
   "source": [
    "y"
   ]
  },
  {
   "cell_type": "code",
   "execution_count": 141,
   "metadata": {},
   "outputs": [],
   "source": [
    "dataSetName = \"IRIS\"\n",
    "iris = datasets.load_iris()  \n",
    "X = iris.data"
   ]
  },
  {
   "cell_type": "code",
   "execution_count": 142,
   "metadata": {},
   "outputs": [
    {
     "data": {
      "text/plain": [
       "(150, 4)"
      ]
     },
     "execution_count": 142,
     "metadata": {},
     "output_type": "execute_result"
    }
   ],
   "source": [
    "X.shape"
   ]
  },
  {
   "cell_type": "code",
   "execution_count": 151,
   "metadata": {},
   "outputs": [
    {
     "name": "stdout",
     "output_type": "stream",
     "text": [
      "2.5\n",
      "0.1\n"
     ]
    }
   ],
   "source": [
    "print(X[:,3].max())\n",
    "print(X[:,3].min())"
   ]
  },
  {
   "cell_type": "code",
   "execution_count": 144,
   "metadata": {},
   "outputs": [
    {
     "data": {
      "text/plain": [
       "array([[5.1, 3.5, 1.4, 0.2],\n",
       "       [4.9, 3. , 1.4, 0.2],\n",
       "       [4.7, 3.2, 1.3, 0.2],\n",
       "       [4.6, 3.1, 1.5, 0.2],\n",
       "       [5. , 3.6, 1.4, 0.2],\n",
       "       [5.4, 3.9, 1.7, 0.4],\n",
       "       [4.6, 3.4, 1.4, 0.3],\n",
       "       [5. , 3.4, 1.5, 0.2],\n",
       "       [4.4, 2.9, 1.4, 0.2],\n",
       "       [4.9, 3.1, 1.5, 0.1],\n",
       "       [5.4, 3.7, 1.5, 0.2],\n",
       "       [4.8, 3.4, 1.6, 0.2],\n",
       "       [4.8, 3. , 1.4, 0.1],\n",
       "       [4.3, 3. , 1.1, 0.1],\n",
       "       [5.8, 4. , 1.2, 0.2],\n",
       "       [5.7, 4.4, 1.5, 0.4],\n",
       "       [5.4, 3.9, 1.3, 0.4],\n",
       "       [5.1, 3.5, 1.4, 0.3],\n",
       "       [5.7, 3.8, 1.7, 0.3],\n",
       "       [5.1, 3.8, 1.5, 0.3],\n",
       "       [5.4, 3.4, 1.7, 0.2],\n",
       "       [5.1, 3.7, 1.5, 0.4],\n",
       "       [4.6, 3.6, 1. , 0.2],\n",
       "       [5.1, 3.3, 1.7, 0.5],\n",
       "       [4.8, 3.4, 1.9, 0.2],\n",
       "       [5. , 3. , 1.6, 0.2],\n",
       "       [5. , 3.4, 1.6, 0.4],\n",
       "       [5.2, 3.5, 1.5, 0.2],\n",
       "       [5.2, 3.4, 1.4, 0.2],\n",
       "       [4.7, 3.2, 1.6, 0.2],\n",
       "       [4.8, 3.1, 1.6, 0.2],\n",
       "       [5.4, 3.4, 1.5, 0.4],\n",
       "       [5.2, 4.1, 1.5, 0.1],\n",
       "       [5.5, 4.2, 1.4, 0.2],\n",
       "       [4.9, 3.1, 1.5, 0.2],\n",
       "       [5. , 3.2, 1.2, 0.2],\n",
       "       [5.5, 3.5, 1.3, 0.2],\n",
       "       [4.9, 3.6, 1.4, 0.1],\n",
       "       [4.4, 3. , 1.3, 0.2],\n",
       "       [5.1, 3.4, 1.5, 0.2],\n",
       "       [5. , 3.5, 1.3, 0.3],\n",
       "       [4.5, 2.3, 1.3, 0.3],\n",
       "       [4.4, 3.2, 1.3, 0.2],\n",
       "       [5. , 3.5, 1.6, 0.6],\n",
       "       [5.1, 3.8, 1.9, 0.4],\n",
       "       [4.8, 3. , 1.4, 0.3],\n",
       "       [5.1, 3.8, 1.6, 0.2],\n",
       "       [4.6, 3.2, 1.4, 0.2],\n",
       "       [5.3, 3.7, 1.5, 0.2],\n",
       "       [5. , 3.3, 1.4, 0.2],\n",
       "       [7. , 3.2, 4.7, 1.4],\n",
       "       [6.4, 3.2, 4.5, 1.5],\n",
       "       [6.9, 3.1, 4.9, 1.5],\n",
       "       [5.5, 2.3, 4. , 1.3],\n",
       "       [6.5, 2.8, 4.6, 1.5],\n",
       "       [5.7, 2.8, 4.5, 1.3],\n",
       "       [6.3, 3.3, 4.7, 1.6],\n",
       "       [4.9, 2.4, 3.3, 1. ],\n",
       "       [6.6, 2.9, 4.6, 1.3],\n",
       "       [5.2, 2.7, 3.9, 1.4],\n",
       "       [5. , 2. , 3.5, 1. ],\n",
       "       [5.9, 3. , 4.2, 1.5],\n",
       "       [6. , 2.2, 4. , 1. ],\n",
       "       [6.1, 2.9, 4.7, 1.4],\n",
       "       [5.6, 2.9, 3.6, 1.3],\n",
       "       [6.7, 3.1, 4.4, 1.4],\n",
       "       [5.6, 3. , 4.5, 1.5],\n",
       "       [5.8, 2.7, 4.1, 1. ],\n",
       "       [6.2, 2.2, 4.5, 1.5],\n",
       "       [5.6, 2.5, 3.9, 1.1],\n",
       "       [5.9, 3.2, 4.8, 1.8],\n",
       "       [6.1, 2.8, 4. , 1.3],\n",
       "       [6.3, 2.5, 4.9, 1.5],\n",
       "       [6.1, 2.8, 4.7, 1.2],\n",
       "       [6.4, 2.9, 4.3, 1.3],\n",
       "       [6.6, 3. , 4.4, 1.4],\n",
       "       [6.8, 2.8, 4.8, 1.4],\n",
       "       [6.7, 3. , 5. , 1.7],\n",
       "       [6. , 2.9, 4.5, 1.5],\n",
       "       [5.7, 2.6, 3.5, 1. ],\n",
       "       [5.5, 2.4, 3.8, 1.1],\n",
       "       [5.5, 2.4, 3.7, 1. ],\n",
       "       [5.8, 2.7, 3.9, 1.2],\n",
       "       [6. , 2.7, 5.1, 1.6],\n",
       "       [5.4, 3. , 4.5, 1.5],\n",
       "       [6. , 3.4, 4.5, 1.6],\n",
       "       [6.7, 3.1, 4.7, 1.5],\n",
       "       [6.3, 2.3, 4.4, 1.3],\n",
       "       [5.6, 3. , 4.1, 1.3],\n",
       "       [5.5, 2.5, 4. , 1.3],\n",
       "       [5.5, 2.6, 4.4, 1.2],\n",
       "       [6.1, 3. , 4.6, 1.4],\n",
       "       [5.8, 2.6, 4. , 1.2],\n",
       "       [5. , 2.3, 3.3, 1. ],\n",
       "       [5.6, 2.7, 4.2, 1.3],\n",
       "       [5.7, 3. , 4.2, 1.2],\n",
       "       [5.7, 2.9, 4.2, 1.3],\n",
       "       [6.2, 2.9, 4.3, 1.3],\n",
       "       [5.1, 2.5, 3. , 1.1],\n",
       "       [5.7, 2.8, 4.1, 1.3],\n",
       "       [6.3, 3.3, 6. , 2.5],\n",
       "       [5.8, 2.7, 5.1, 1.9],\n",
       "       [7.1, 3. , 5.9, 2.1],\n",
       "       [6.3, 2.9, 5.6, 1.8],\n",
       "       [6.5, 3. , 5.8, 2.2],\n",
       "       [7.6, 3. , 6.6, 2.1],\n",
       "       [4.9, 2.5, 4.5, 1.7],\n",
       "       [7.3, 2.9, 6.3, 1.8],\n",
       "       [6.7, 2.5, 5.8, 1.8],\n",
       "       [7.2, 3.6, 6.1, 2.5],\n",
       "       [6.5, 3.2, 5.1, 2. ],\n",
       "       [6.4, 2.7, 5.3, 1.9],\n",
       "       [6.8, 3. , 5.5, 2.1],\n",
       "       [5.7, 2.5, 5. , 2. ],\n",
       "       [5.8, 2.8, 5.1, 2.4],\n",
       "       [6.4, 3.2, 5.3, 2.3],\n",
       "       [6.5, 3. , 5.5, 1.8],\n",
       "       [7.7, 3.8, 6.7, 2.2],\n",
       "       [7.7, 2.6, 6.9, 2.3],\n",
       "       [6. , 2.2, 5. , 1.5],\n",
       "       [6.9, 3.2, 5.7, 2.3],\n",
       "       [5.6, 2.8, 4.9, 2. ],\n",
       "       [7.7, 2.8, 6.7, 2. ],\n",
       "       [6.3, 2.7, 4.9, 1.8],\n",
       "       [6.7, 3.3, 5.7, 2.1],\n",
       "       [7.2, 3.2, 6. , 1.8],\n",
       "       [6.2, 2.8, 4.8, 1.8],\n",
       "       [6.1, 3. , 4.9, 1.8],\n",
       "       [6.4, 2.8, 5.6, 2.1],\n",
       "       [7.2, 3. , 5.8, 1.6],\n",
       "       [7.4, 2.8, 6.1, 1.9],\n",
       "       [7.9, 3.8, 6.4, 2. ],\n",
       "       [6.4, 2.8, 5.6, 2.2],\n",
       "       [6.3, 2.8, 5.1, 1.5],\n",
       "       [6.1, 2.6, 5.6, 1.4],\n",
       "       [7.7, 3. , 6.1, 2.3],\n",
       "       [6.3, 3.4, 5.6, 2.4],\n",
       "       [6.4, 3.1, 5.5, 1.8],\n",
       "       [6. , 3. , 4.8, 1.8],\n",
       "       [6.9, 3.1, 5.4, 2.1],\n",
       "       [6.7, 3.1, 5.6, 2.4],\n",
       "       [6.9, 3.1, 5.1, 2.3],\n",
       "       [5.8, 2.7, 5.1, 1.9],\n",
       "       [6.8, 3.2, 5.9, 2.3],\n",
       "       [6.7, 3.3, 5.7, 2.5],\n",
       "       [6.7, 3. , 5.2, 2.3],\n",
       "       [6.3, 2.5, 5. , 1.9],\n",
       "       [6.5, 3. , 5.2, 2. ],\n",
       "       [6.2, 3.4, 5.4, 2.3],\n",
       "       [5.9, 3. , 5.1, 1.8]])"
      ]
     },
     "execution_count": 144,
     "metadata": {},
     "output_type": "execute_result"
    }
   ],
   "source": [
    "X"
   ]
  },
  {
   "cell_type": "code",
   "execution_count": 287,
   "metadata": {},
   "outputs": [
    {
     "name": "stdout",
     "output_type": "stream",
     "text": [
      "the max values in features before scaling :  255.0\n",
      "the min values in features before scaling :  0.0\n"
     ]
    }
   ],
   "source": [
    "# normalizing features \n",
    "scaler = StandardScaler() \n",
    "scaler.fit(features_raw) \n",
    "print(\"the max values in features before scaling : \",features_raw.max().max()) \n",
    "print(\"the min values in features before scaling : \",features_raw.min().min()) \n",
    "features = scaler.transform(features_raw) # transform the features to StandardScaler()"
   ]
  },
  {
   "cell_type": "code",
   "execution_count": 288,
   "metadata": {},
   "outputs": [
    {
     "name": "stdout",
     "output_type": "stream",
     "text": [
      "X_train:  (56000, 784)\n",
      "X_test:  (14000, 784)\n",
      "y_train:  (56000,)\n",
      "y_test:  (14000,)\n"
     ]
    }
   ],
   "source": [
    "# Splitting the data into training and testing sets\n",
    "X_train, X_test, y_train, y_test = train_test_split(features, lables, test_size=0.2, random_state=42) \n",
    "\n",
    "print(\"X_train: \", X_train.shape)\n",
    "print(\"X_test: \", X_test.shape)\n",
    "print(\"y_train: \", y_train.shape) \n",
    "print(\"y_test: \", y_test.shape) "
   ]
  },
  {
   "cell_type": "markdown",
   "metadata": {},
   "source": [
    "Our dataset originally had 784 features (columns). We aimed to reduce this number using Principal Component Analysis (PCA) while retaining most of the information. We started by keeping the top 50 principal components, which captured 43% of the variance in the data."
   ]
  },
  {
   "cell_type": "code",
   "execution_count": 289,
   "metadata": {},
   "outputs": [
    {
     "name": "stdout",
     "output_type": "stream",
     "text": [
      "(56000, 784) (56000, 50)\n",
      "(14000, 784) (14000, 50)\n",
      "0.4373978939213167\n"
     ]
    }
   ],
   "source": [
    "# Apply PCA\n",
    "pca = PCA(n_components=50)\n",
    "pca.fit(X_train)\n",
    "X_train_pca = pca.transform(X_train)\n",
    "print(X_train.shape, X_train_pca.shape)\n",
    "\n",
    "X_test_pca = pca.transform(X_test)\n",
    "print(X_test.shape, X_test_pca.shape)\n",
    "\n",
    "print(pca.noise_variance_)"
   ]
  },
  {
   "cell_type": "code",
   "execution_count": 290,
   "metadata": {},
   "outputs": [],
   "source": [
    "#  Explore the variance explained by the selected number\n",
    "#  of components and adjust if necessary to retain at least\n",
    "# 95% of the variance.\n",
    "n_componentsExplore = []\n",
    "for n_components in range(5,784,25): \n",
    "    pca = PCA(n_components=n_components)\n",
    "    pca.fit(X_train)\n",
    "    X_train_pca = pca.transform(X_train)\n",
    "    noise_variance = pca.noise_variance_\n",
    "    n_componentsExplore.append([n_components,noise_variance]) \n",
    "    if(noise_variance < 0.05):\n",
    "        break"
   ]
  },
  {
   "cell_type": "code",
   "execution_count": 291,
   "metadata": {},
   "outputs": [
    {
     "data": {
      "text/plain": [
       "[[5, 0.7461170433292454],\n",
       " [30, 0.5208512615736208],\n",
       " [55, 0.4206365826195105],\n",
       " [80, 0.35148862085679317],\n",
       " [105, 0.29616477290608867],\n",
       " [130, 0.2518414187031177],\n",
       " [155, 0.21298846723225007],\n",
       " [180, 0.1804277796982072],\n",
       " [205, 0.15407449695463218],\n",
       " [230, 0.13215853799050223],\n",
       " [255, 0.11467577530595356],\n",
       " [280, 0.10024391623636372],\n",
       " [305, 0.08809805927432372],\n",
       " [330, 0.07777820168987501],\n",
       " [355, 0.06912136440487493],\n",
       " [380, 0.06167311242764846],\n",
       " [405, 0.055253201130123566],\n",
       " [430, 0.04947378672653263]]"
      ]
     },
     "execution_count": 291,
     "metadata": {},
     "output_type": "execute_result"
    }
   ],
   "source": [
    "n_componentsExplore"
   ]
  },
  {
   "cell_type": "markdown",
   "metadata": {},
   "source": [
    "To find the optimal number of components for our analysis, the below loop that iteratively increased the number of components by 25, all the way up to 784. The loop stopped when the explained variance reached 95%. This process is visualized in a scree plot, which helps us see how adding more components contributes to the explained variance."
   ]
  },
  {
   "cell_type": "code",
   "execution_count": 292,
   "metadata": {},
   "outputs": [
    {
     "data": {
      "image/png": "[encoded data removed]",
      "text/plain": [
       "<Figure size 200x200 with 1 Axes>"
      ]
     },
     "metadata": {},
     "output_type": "display_data"
    }
   ],
   "source": [
    "# Scree plot to find the elbo at 0.05\n",
    "n_componentsExploreArr = np.zeros([len(n_componentsExplore),2])\n",
    "for i in n_componentsExplore: \n",
    "    n_componentsExploreArr = np.append(n_componentsExploreArr,[i] , axis=0)\n",
    "    \n",
    "plt.style.use('_mpl-gallery') \n",
    "x = np.matrix(n_componentsExplore)[:,0]\n",
    "y = np.matrix(n_componentsExplore)[:,1] \n",
    "fig, ax = plt.subplots()\n",
    "plt.axhline(y = 0.05, color = 'r', linestyle = 'dashed')    \n",
    "ax.plot(x, y, linewidth=2.0) \n",
    "plt.show()\n",
    " "
   ]
  },
  {
   "cell_type": "markdown",
   "metadata": {},
   "source": [
    "an alternative method provided by scikit-learn. This method allows us to specify the desired explained variance, and scikit-learn will find the closest number of components that achieves that level of variance."
   ]
  },
  {
   "cell_type": "code",
   "execution_count": 293,
   "metadata": {},
   "outputs": [
    {
     "name": "stdout",
     "output_type": "stream",
     "text": [
      "0.07801665582474857\n",
      "327\n"
     ]
    }
   ],
   "source": [
    "# alternative method: \n",
    "pca = PCA(n_components= 0.95, svd_solver='full')\n",
    "pca.fit(X_train)\n",
    "print(pca.noise_variance_)\n",
    "print(len(pca.components_))"
   ]
  },
  {
   "cell_type": "code",
   "execution_count": 294,
   "metadata": {},
   "outputs": [
    {
     "name": "stdout",
     "output_type": "stream",
     "text": [
      "(56000, 784) (56000, 400)\n",
      "(14000, 784) (14000, 400)\n",
      "0.05645825103308629\n"
     ]
    }
   ],
   "source": [
    "# For this particular task, I chose to use 400 components \n",
    "n_components = 400\n",
    "pca = PCA(n_components= n_components)\n",
    "pca.fit(X_train)\n",
    "\n",
    "# transforming x train and x test\n",
    "X_train_pca = pca.transform(X_train)\n",
    "X_test_pca = pca.transform(X_test)\n",
    "\n",
    "print(X_train.shape, X_train_pca.shape)\n",
    "print(X_test.shape, X_test_pca.shape)\n",
    "print(pca.noise_variance_)"
   ]
  },
  {
   "cell_type": "code",
   "execution_count": 297,
   "metadata": {},
   "outputs": [],
   "source": [
    "df_resultsSummary = pd.DataFrame([])\n",
    "def calculateAcc(y_test,y_predict,methodName1,methodNam2,executionTime,df_resultsSummary, printResults = True): \n",
    "    conf_matrix = confusion_matrix(y_test, y_predict ) \n",
    "    if(printResults):\n",
    "        print(conf_matrix) \n",
    "        print(classification_report(y_test, y_predict ))\n",
    "    acc_ovr = accuracy_score(y_test, y_predict)\n",
    "    return pd.concat([df_resultsSummary,pd.DataFrame([[methodName1,methodNam2,acc_ovr,executionTime]]\n",
    "                                                     ,columns=[\"Model\",\"Data\",\"accuracy\",\"executionTime\"])])"
   ]
  },
  {
   "cell_type": "code",
   "execution_count": 296,
   "metadata": {},
   "outputs": [
    {
     "name": "stdout",
     "output_type": "stream",
     "text": [
      "[[1305    1    5    0    1    6   14    2    8    1]\n",
      " [   0 1557    5    8    2   10    1    3   13    1]\n",
      " [   8   16 1233   23   16   13   18   15   31    7]\n",
      " [   7   11   34 1269    1   38    7   18   25   23]\n",
      " [   4    2    9    6 1200    3    7    7   13   44]\n",
      " [   8   10    7   50   14 1112   21    7   34   10]\n",
      " [   4    5   16    1   11   23 1330    0    6    0]\n",
      " [   6    4   21    3   14    7    0 1409    5   34]\n",
      " [  14   37   17   44    9   45   14   10 1138   29]\n",
      " [   8    9    6   23   46    9    0   52   11 1256]]\n",
      "              precision    recall  f1-score   support\n",
      "\n",
      "           0       0.96      0.97      0.96      1343\n",
      "           1       0.94      0.97      0.96      1600\n",
      "           2       0.91      0.89      0.90      1380\n",
      "           3       0.89      0.89      0.89      1433\n",
      "           4       0.91      0.93      0.92      1295\n",
      "           5       0.88      0.87      0.88      1273\n",
      "           6       0.94      0.95      0.95      1396\n",
      "           7       0.93      0.94      0.93      1503\n",
      "           8       0.89      0.84      0.86      1357\n",
      "           9       0.89      0.88      0.89      1420\n",
      "\n",
      "    accuracy                           0.91     14000\n",
      "   macro avg       0.91      0.91      0.91     14000\n",
      "weighted avg       0.91      0.91      0.91     14000\n",
      "\n"
     ]
    }
   ],
   "source": [
    "# Implement a Logistic Regression classifier.\n",
    "ovr = LogisticRegression(random_state=15, multi_class='ovr', solver='lbfgs')\n",
    "# Train One-Vs-Rest Logistic Regression\n",
    "startTime = time.time()\n",
    "ovr.fit(X_train, y_train)\n",
    "executionTime = time.time()-startTime\n",
    "# predict lbfgs PCA\n",
    "y_predict =ovr.predict(X_test)  \n",
    "df_resultsSummary = calculateAcc(y_test,y_predict,\n",
    "                                 \"Logistic Regression\",\n",
    "                                 \"all Features - no PCA\", executionTime,\n",
    "                                 df_resultsSummary)"
   ]
  },
  {
   "cell_type": "code",
   "execution_count": 298,
   "metadata": {},
   "outputs": [
    {
     "name": "stdout",
     "output_type": "stream",
     "text": [
      "[[1304    1    4    1    2    8   11    2    8    2]\n",
      " [   0 1557    4    9    2    9    3    4   11    1]\n",
      " [   6   18 1239   17   15   10   19   15   34    7]\n",
      " [   8    9   37 1268    2   41    6   19   25   18]\n",
      " [   3    2    8    7 1201    3    6    8   12   45]\n",
      " [   7    8    6   50   16 1113   23    5   35   10]\n",
      " [   6    4   16    1   10   19 1335    0    5    0]\n",
      " [   5    4   21    0   11    7    0 1421    2   32]\n",
      " [  10   36   15   40    9   44   12   12 1154   25]\n",
      " [  10   10    6   22   45    9    0   52   13 1253]]\n",
      "              precision    recall  f1-score   support\n",
      "\n",
      "           0       0.96      0.97      0.97      1343\n",
      "           1       0.94      0.97      0.96      1600\n",
      "           2       0.91      0.90      0.91      1380\n",
      "           3       0.90      0.88      0.89      1433\n",
      "           4       0.91      0.93      0.92      1295\n",
      "           5       0.88      0.87      0.88      1273\n",
      "           6       0.94      0.96      0.95      1396\n",
      "           7       0.92      0.95      0.93      1503\n",
      "           8       0.89      0.85      0.87      1357\n",
      "           9       0.90      0.88      0.89      1420\n",
      "\n",
      "    accuracy                           0.92     14000\n",
      "   macro avg       0.92      0.92      0.92     14000\n",
      "weighted avg       0.92      0.92      0.92     14000\n",
      "\n"
     ]
    }
   ],
   "source": [
    "ovr = LogisticRegression(random_state=15, multi_class='ovr', solver='lbfgs')\n",
    "# Train One-Vs-Rest Logistic Regression\n",
    "startTime = time.time()\n",
    "ovr.fit(X_train_pca, y_train)\n",
    "executionTime = time.time()-startTime\n",
    "# predict lbfgs PCA\n",
    "y_predict =ovr.predict(X_test_pca)   \n",
    "df_resultsSummary = calculateAcc(y_test,y_predict,\n",
    "                                 \"Logistic Regression\",\n",
    "                                 \"PCA (400 components)\",\n",
    "                                 executionTime,\n",
    "                                 df_resultsSummary)"
   ]
  },
  {
   "cell_type": "code",
   "execution_count": 299,
   "metadata": {},
   "outputs": [
    {
     "name": "stdout",
     "output_type": "stream",
     "text": [
      "[[1252    0   11    1    9   19   29    2   11    9]\n",
      " [   0 1531   11   12    1    8    1    7   28    1]\n",
      " [  27   28 1224   34   10    3   15   13   23    3]\n",
      " [   7   14   30 1268    2   46    3   25   18   20]\n",
      " [   8    1    9    0 1183    7   22   14   11   40]\n",
      " [   6    7    8   54    7 1096   10   10   52   23]\n",
      " [  16    4   20    0   22   15 1302    3   13    1]\n",
      " [   3   12   17   23   18   17    2 1348    2   61]\n",
      " [  13   24   33   28    4   61   16    8 1144   26]\n",
      " [  13    2    3   10   62   16    3   61   13 1237]]\n",
      "              precision    recall  f1-score   support\n",
      "\n",
      "           0       0.93      0.93      0.93      1343\n",
      "           1       0.94      0.96      0.95      1600\n",
      "           2       0.90      0.89      0.89      1380\n",
      "           3       0.89      0.88      0.89      1433\n",
      "           4       0.90      0.91      0.91      1295\n",
      "           5       0.85      0.86      0.86      1273\n",
      "           6       0.93      0.93      0.93      1396\n",
      "           7       0.90      0.90      0.90      1503\n",
      "           8       0.87      0.84      0.86      1357\n",
      "           9       0.87      0.87      0.87      1420\n",
      "\n",
      "    accuracy                           0.90     14000\n",
      "   macro avg       0.90      0.90      0.90     14000\n",
      "weighted avg       0.90      0.90      0.90     14000\n",
      "\n"
     ]
    }
   ],
   "source": [
    "# Part IV: Neural Network Classifier \n",
    "mlp_clf = MLPClassifier(hidden_layer_sizes=(16,12,8), max_iter = 1000, activation = 'logistic', solver = 'adam')\n",
    "startTime = time.time()\n",
    "mlp_clf.fit(X_train, y_train)\n",
    "executionTime = time.time()-startTime \n",
    "y_predict =mlp_clf.predict(X_test)   \n",
    "df_resultsSummary = calculateAcc(y_test,y_predict,\n",
    "                                 \"NN Classifier, 3 layers, logistic\",\n",
    "                                \"All Features - no PCA\",\n",
    "                                 executionTime,\n",
    "                                 df_resultsSummary)"
   ]
  },
  {
   "cell_type": "code",
   "execution_count": 300,
   "metadata": {},
   "outputs": [
    {
     "name": "stdout",
     "output_type": "stream",
     "text": [
      "[[1252    2   15    1    0   29   32    3    9    0]\n",
      " [   1 1548    8   10    2    3    1   10   13    4]\n",
      " [  27   14 1229   25   10    9   12   17   31    6]\n",
      " [   0    5   31 1275    2   57    0   23   26   14]\n",
      " [   2    5    3    1 1186   11   20    6    7   54]\n",
      " [   8    4    3   59    7 1122   12    6   43    9]\n",
      " [  31    3   13    0   22   14 1304    0    7    2]\n",
      " [   8   12   11   31    7    8    1 1376    2   47]\n",
      " [   8   21   18   28    6   34   20    5 1201   16]\n",
      " [   4    4    6   12   55   16    3   34   11 1275]]\n",
      "              precision    recall  f1-score   support\n",
      "\n",
      "           0       0.93      0.93      0.93      1343\n",
      "           1       0.96      0.97      0.96      1600\n",
      "           2       0.92      0.89      0.90      1380\n",
      "           3       0.88      0.89      0.89      1433\n",
      "           4       0.91      0.92      0.92      1295\n",
      "           5       0.86      0.88      0.87      1273\n",
      "           6       0.93      0.93      0.93      1396\n",
      "           7       0.93      0.92      0.92      1503\n",
      "           8       0.89      0.89      0.89      1357\n",
      "           9       0.89      0.90      0.90      1420\n",
      "\n",
      "    accuracy                           0.91     14000\n",
      "   macro avg       0.91      0.91      0.91     14000\n",
      "weighted avg       0.91      0.91      0.91     14000\n",
      "\n"
     ]
    }
   ],
   "source": [
    "mlp_clf = MLPClassifier(hidden_layer_sizes=(16,12,8), max_iter = 1000, activation = 'logistic', solver = 'adam')\n",
    "startTime = time.time()\n",
    "mlp_clf.fit(X_train_pca, y_train)\n",
    "executionTime = time.time()-startTime \n",
    "y_predict = mlp_clf.predict(X_test_pca)   \n",
    "df_resultsSummary = calculateAcc(y_test,y_predict,\n",
    "                                 \"NN Classifier, 3 layers, logistic\",\n",
    "                                 \"PCA (400 components)\",\n",
    "                                 executionTime,\n",
    "                                 df_resultsSummary)"
   ]
  },
  {
   "cell_type": "markdown",
   "metadata": {},
   "source": [
    "### hyperparameters "
   ]
  },
  {
   "cell_type": "code",
   "execution_count": 304,
   "metadata": {},
   "outputs": [
    {
     "name": "stdout",
     "output_type": "stream",
     "text": [
      "All Options [['adam', 'logistic', 'constant', 'All Features - no PCA'], ['adam', 'logistic', 'constant', 'PCA (400 components)'], ['adam', 'logistic', 'adaptive', 'All Features - no PCA'], ['adam', 'logistic', 'adaptive', 'PCA (400 components)'], ['adam', 'relu', 'constant', 'All Features - no PCA'], ['adam', 'relu', 'constant', 'PCA (400 components)'], ['adam', 'relu', 'adaptive', 'All Features - no PCA'], ['adam', 'relu', 'adaptive', 'PCA (400 components)'], ['adam', 'tanh', 'constant', 'All Features - no PCA'], ['adam', 'tanh', 'constant', 'PCA (400 components)'], ['adam', 'tanh', 'adaptive', 'All Features - no PCA'], ['adam', 'tanh', 'adaptive', 'PCA (400 components)'], ['sgd', 'logistic', 'constant', 'All Features - no PCA'], ['sgd', 'logistic', 'constant', 'PCA (400 components)'], ['sgd', 'logistic', 'adaptive', 'All Features - no PCA'], ['sgd', 'logistic', 'adaptive', 'PCA (400 components)'], ['sgd', 'relu', 'constant', 'All Features - no PCA'], ['sgd', 'relu', 'constant', 'PCA (400 components)'], ['sgd', 'relu', 'adaptive', 'All Features - no PCA'], ['sgd', 'relu', 'adaptive', 'PCA (400 components)'], ['sgd', 'tanh', 'constant', 'All Features - no PCA'], ['sgd', 'tanh', 'constant', 'PCA (400 components)'], ['sgd', 'tanh', 'adaptive', 'All Features - no PCA'], ['sgd', 'tanh', 'adaptive', 'PCA (400 components)'], ['lbfgs', 'logistic', 'constant', 'All Features - no PCA'], ['lbfgs', 'logistic', 'constant', 'PCA (400 components)'], ['lbfgs', 'logistic', 'adaptive', 'All Features - no PCA'], ['lbfgs', 'logistic', 'adaptive', 'PCA (400 components)'], ['lbfgs', 'relu', 'constant', 'All Features - no PCA'], ['lbfgs', 'relu', 'constant', 'PCA (400 components)'], ['lbfgs', 'relu', 'adaptive', 'All Features - no PCA'], ['lbfgs', 'relu', 'adaptive', 'PCA (400 components)'], ['lbfgs', 'tanh', 'constant', 'All Features - no PCA'], ['lbfgs', 'tanh', 'constant', 'PCA (400 components)'], ['lbfgs', 'tanh', 'adaptive', 'All Features - no PCA'], ['lbfgs', 'tanh', 'adaptive', 'PCA (400 components)']]\n",
      "['sgd', 'tanh', 'adaptive', 'All Features - no PCA']\n",
      "['sgd', 'relu', 'constant', 'PCA (400 components)']\n",
      "['sgd', 'tanh', 'constant', 'PCA (400 components)']\n",
      "['lbfgs', 'logistic', 'constant', 'PCA (400 components)']\n",
      "['lbfgs', 'relu', 'adaptive', 'PCA (400 components)']\n",
      "['adam', 'relu', 'constant', 'PCA (400 components)']\n",
      "['lbfgs', 'logistic', 'constant', 'All Features - no PCA']\n",
      "['adam', 'relu', 'adaptive', 'PCA (400 components)']\n",
      "['adam', 'tanh', 'constant', 'All Features - no PCA']\n",
      "['sgd', 'tanh', 'constant', 'All Features - no PCA']\n"
     ]
    }
   ],
   "source": [
    "# Define the grid search space\n",
    "optimizers = ['adam', 'sgd','lbfgs']\n",
    "activations = ['logistic','relu', 'tanh']  \n",
    "learning_rate = ['constant', 'adaptive']\n",
    "dataSource = ['All Features - no PCA','PCA (400 components)']\n",
    "\n",
    "options = [] # define empty list \n",
    "for optimizer, activation,learning_rate,dataSource in product(optimizers, activations,learning_rate,dataSource):\n",
    "  options.append([optimizer,activation,learning_rate,dataSource]) # add all possible options \n",
    "\n",
    "searchingOptions = np.random.choice(len(options),10, replace=False) # randomly pick 10 options \n",
    "print(\"All Options\", options) \n",
    "for i in searchingOptions:\n",
    "  print(options[i])"
   ]
  },
  {
   "cell_type": "code",
   "execution_count": 311,
   "metadata": {},
   "outputs": [
    {
     "name": "stdout",
     "output_type": "stream",
     "text": [
      "['sgd', 'tanh', 'adaptive', 'All Features - no PCA']  accuracy: 0.9167857142857143\n",
      "['sgd', 'relu', 'constant', 'PCA (400 components)']  accuracy: 0.9393571428571429\n",
      "['sgd', 'tanh', 'constant', 'PCA (400 components)']  accuracy: 0.927\n",
      "['lbfgs', 'logistic', 'constant', 'PCA (400 components)']  accuracy: 0.9050714285714285\n",
      "['lbfgs', 'relu', 'adaptive', 'PCA (400 components)']  accuracy: 0.9363571428571429\n",
      "['adam', 'relu', 'constant', 'PCA (400 components)']  accuracy: 0.9352857142857143\n",
      "['lbfgs', 'logistic', 'constant', 'All Features - no PCA']  accuracy: 0.9005\n",
      "['adam', 'relu', 'adaptive', 'PCA (400 components)']  accuracy: 0.9388571428571428\n",
      "['adam', 'tanh', 'constant', 'All Features - no PCA']  accuracy: 0.9128571428571428\n",
      "['sgd', 'tanh', 'constant', 'All Features - no PCA']  accuracy: 0.9152142857142858\n"
     ]
    }
   ],
   "source": [
    "for i in searchingOptions: \n",
    "    activation = options[i][1] \n",
    "    solver = options[i][0] \n",
    "    learning_rate = options[i][2]\n",
    "    dataSource = options[i][3] \n",
    "    if(dataSource == \"All Features - no PCA\"):\n",
    "        trainingData = X_train\n",
    "        testingData = X_test\n",
    "    else:\n",
    "        trainingData = X_train_pca\n",
    "        testingData = X_test_pca\n",
    "    mlp_clf = MLPClassifier(hidden_layer_sizes=(16,12,8), max_iter = 500,\n",
    "                             activation = activation, solver = solver,learning_rate=learning_rate)\n",
    "    startTime = time.time()\n",
    "    mlp_clf.fit(trainingData, y_train)\n",
    "    executionTime = time.time()-startTime \n",
    "    y_predict = mlp_clf.predict(testingData)   \n",
    "    df_resultsSummary = calculateAcc(y_test,y_predict,\n",
    "                                    \"hyperparameters activation\" + activation + \" solver:\" + solver + \" learning_rate\" + learning_rate,\n",
    "                                    dataSource,\n",
    "                                    executionTime,\n",
    "                                    df_resultsSummary,printResults=False)\n",
    "    print(options[i],\" accuracy:\",df_resultsSummary.tail(1)[\"accuracy\"].values[0])"
   ]
  },
  {
   "cell_type": "code",
   "execution_count": 313,
   "metadata": {},
   "outputs": [
    {
     "data": {
      "text/html": [
       "<div>\n",
       "<style scoped>\n",
       "    .dataframe tbody tr th:only-of-type {\n",
       "        vertical-align: middle;\n",
       "    }\n",
       "\n",
       "    .dataframe tbody tr th {\n",
       "        vertical-align: top;\n",
       "    }\n",
       "\n",
       "    .dataframe thead th {\n",
       "        text-align: right;\n",
       "    }\n",
       "</style>\n",
       "<table border=\"1\" class=\"dataframe\">\n",
       "  <thead>\n",
       "    <tr style=\"text-align: right;\">\n",
       "      <th></th>\n",
       "      <th>Model</th>\n",
       "      <th>Data</th>\n",
       "      <th>accuracy</th>\n",
       "      <th>executionTime</th>\n",
       "    </tr>\n",
       "  </thead>\n",
       "  <tbody>\n",
       "    <tr>\n",
       "      <th>0</th>\n",
       "      <td>Logistic Regression</td>\n",
       "      <td>PCA (400 components)</td>\n",
       "      <td>0.917500</td>\n",
       "      <td>25.284516</td>\n",
       "    </tr>\n",
       "    <tr>\n",
       "      <th>0</th>\n",
       "      <td>NN Classifier, 3 layers, logistic</td>\n",
       "      <td>All Features - no PCA</td>\n",
       "      <td>0.898929</td>\n",
       "      <td>317.773614</td>\n",
       "    </tr>\n",
       "    <tr>\n",
       "      <th>0</th>\n",
       "      <td>NN Classifier, 3 layers, logistic</td>\n",
       "      <td>PCA (400 components)</td>\n",
       "      <td>0.912000</td>\n",
       "      <td>185.229174</td>\n",
       "    </tr>\n",
       "    <tr>\n",
       "      <th>0</th>\n",
       "      <td>hyperparameters activationtanh solver:sgd lear...</td>\n",
       "      <td>All Features - no PCA</td>\n",
       "      <td>0.916786</td>\n",
       "      <td>357.610471</td>\n",
       "    </tr>\n",
       "    <tr>\n",
       "      <th>0</th>\n",
       "      <td>hyperparameters activationrelu solver:sgd lear...</td>\n",
       "      <td>PCA (400 components)</td>\n",
       "      <td>0.939357</td>\n",
       "      <td>228.033520</td>\n",
       "    </tr>\n",
       "    <tr>\n",
       "      <th>0</th>\n",
       "      <td>hyperparameters activationtanh solver:sgd lear...</td>\n",
       "      <td>PCA (400 components)</td>\n",
       "      <td>0.927000</td>\n",
       "      <td>216.902335</td>\n",
       "    </tr>\n",
       "    <tr>\n",
       "      <th>0</th>\n",
       "      <td>hyperparameters activationlogistic solver:lbfg...</td>\n",
       "      <td>PCA (400 components)</td>\n",
       "      <td>0.905071</td>\n",
       "      <td>120.471338</td>\n",
       "    </tr>\n",
       "    <tr>\n",
       "      <th>0</th>\n",
       "      <td>hyperparameters activationrelu solver:lbfgs le...</td>\n",
       "      <td>PCA (400 components)</td>\n",
       "      <td>0.936357</td>\n",
       "      <td>79.072497</td>\n",
       "    </tr>\n",
       "    <tr>\n",
       "      <th>0</th>\n",
       "      <td>hyperparameters activationrelu solver:adam lea...</td>\n",
       "      <td>PCA (400 components)</td>\n",
       "      <td>0.935286</td>\n",
       "      <td>109.893801</td>\n",
       "    </tr>\n",
       "    <tr>\n",
       "      <th>0</th>\n",
       "      <td>hyperparameters activationlogistic solver:lbfg...</td>\n",
       "      <td>All Features - no PCA</td>\n",
       "      <td>0.900500</td>\n",
       "      <td>192.081178</td>\n",
       "    </tr>\n",
       "    <tr>\n",
       "      <th>0</th>\n",
       "      <td>hyperparameters activationrelu solver:adam lea...</td>\n",
       "      <td>PCA (400 components)</td>\n",
       "      <td>0.938857</td>\n",
       "      <td>116.923919</td>\n",
       "    </tr>\n",
       "    <tr>\n",
       "      <th>0</th>\n",
       "      <td>hyperparameters activationtanh solver:adam lea...</td>\n",
       "      <td>All Features - no PCA</td>\n",
       "      <td>0.912857</td>\n",
       "      <td>133.931399</td>\n",
       "    </tr>\n",
       "    <tr>\n",
       "      <th>0</th>\n",
       "      <td>hyperparameters activationtanh solver:sgd lear...</td>\n",
       "      <td>All Features - no PCA</td>\n",
       "      <td>0.915214</td>\n",
       "      <td>438.949612</td>\n",
       "    </tr>\n",
       "  </tbody>\n",
       "</table>\n",
       "</div>"
      ],
      "text/plain": [
       "                                               Model                   Data  \\\n",
       "0                                Logistic Regression   PCA (400 components)   \n",
       "0                  NN Classifier, 3 layers, logistic  All Features - no PCA   \n",
       "0                  NN Classifier, 3 layers, logistic   PCA (400 components)   \n",
       "0  hyperparameters activationtanh solver:sgd lear...  All Features - no PCA   \n",
       "0  hyperparameters activationrelu solver:sgd lear...   PCA (400 components)   \n",
       "0  hyperparameters activationtanh solver:sgd lear...   PCA (400 components)   \n",
       "0  hyperparameters activationlogistic solver:lbfg...   PCA (400 components)   \n",
       "0  hyperparameters activationrelu solver:lbfgs le...   PCA (400 components)   \n",
       "0  hyperparameters activationrelu solver:adam lea...   PCA (400 components)   \n",
       "0  hyperparameters activationlogistic solver:lbfg...  All Features - no PCA   \n",
       "0  hyperparameters activationrelu solver:adam lea...   PCA (400 components)   \n",
       "0  hyperparameters activationtanh solver:adam lea...  All Features - no PCA   \n",
       "0  hyperparameters activationtanh solver:sgd lear...  All Features - no PCA   \n",
       "\n",
       "   accuracy  executionTime  \n",
       "0  0.917500      25.284516  \n",
       "0  0.898929     317.773614  \n",
       "0  0.912000     185.229174  \n",
       "0  0.916786     357.610471  \n",
       "0  0.939357     228.033520  \n",
       "0  0.927000     216.902335  \n",
       "0  0.905071     120.471338  \n",
       "0  0.936357      79.072497  \n",
       "0  0.935286     109.893801  \n",
       "0  0.900500     192.081178  \n",
       "0  0.938857     116.923919  \n",
       "0  0.912857     133.931399  \n",
       "0  0.915214     438.949612  "
      ]
     },
     "execution_count": 313,
     "metadata": {},
     "output_type": "execute_result"
    }
   ],
   "source": [
    "df_resultsSummary"
   ]
  }
 ],
 "metadata": {
  "kernelspec": {
   "display_name": "Python 3",
   "language": "python",
   "name": "python3"
  },
  "language_info": {
   "codemirror_mode": {
    "name": "ipython",
    "version": 3
   },
   "file_extension": ".py",
   "mimetype": "text/x-python",
   "name": "python",
   "nbconvert_exporter": "python",
   "pygments_lexer": "ipython3",
   "version": "3.11.3"
  }
 },
 "nbformat": 4,
 "nbformat_minor": 2
}
